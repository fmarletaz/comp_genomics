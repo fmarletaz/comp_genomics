{
 "cells": [
  {
   "cell_type": "code",
   "execution_count": 84,
   "metadata": {},
   "outputs": [],
   "source": [
    "from collections import defaultdict\n",
    "from collections import Counter\n",
    "from ete3 import PhyloTree\n",
    "import numpy as np\n",
    "from tqdm import tqdm_notebook\n",
    "import scipy.stats as stats\n",
    "from statsmodels.stats.multitest import multipletests\n",
    "import time\n",
    "import csv\n",
    "import copy"
   ]
  },
  {
   "cell_type": "markdown",
   "metadata": {},
   "source": [
    "Load gene families"
   ]
  },
  {
   "cell_type": "code",
   "execution_count": 11,
   "metadata": {},
   "outputs": [],
   "source": [
    "Fams={}\n",
    "with open('Orthogroups_dino.csv') as csvfile:\n",
    "    species=[]\n",
    "    for i,rc in enumerate(csv.reader(csvfile, delimiter='\\t', quotechar='\"')):\n",
    "        if i==0:\n",
    "            species=[sp.split('_')[0] for sp in rc[1:]]\n",
    "            continue\n",
    "        genBySp=dict((species[j],[g.split('|')[1] for g in spg.split(',')]) for j,spg in enumerate(rc[1:]) if not spg=='')\n",
    "        #genBySp=\n",
    "        Fams[rc[0]]=genBySp\n",
    "        #if i==5: break\n"
   ]
  },
  {
   "cell_type": "markdown",
   "metadata": {},
   "source": [
    "Creates non-redundant species set"
   ]
  },
  {
   "cell_type": "code",
   "execution_count": 12,
   "metadata": {},
   "outputs": [
    {
     "name": "stdout",
     "output_type": "stream",
     "text": [
      "{'mli', 'dme', 'sma', 'cin', 'sme', 'ava', 'dgy', 'lan', 'hsa', 'nge', 'ppa', 'sko', 'hro', 'hel', 'aqu', 'pye', 'tca', 'loc', 'obi', 'cel', 'nve', 'pau', 'cgi', 'mle', 'odi', 'lgi', 'cte', 'bla', 'rva'}\n"
     ]
    }
   ],
   "source": [
    "spSet=set()\n",
    "for fid,gbs in Fams.items():\n",
    "    for sp in gbs.keys():\n",
    "        spSet.add(sp)\n",
    "print(spSet)\n"
   ]
  },
  {
   "cell_type": "markdown",
   "metadata": {},
   "source": [
    "Load species tree"
   ]
  },
  {
   "cell_type": "code",
   "execution_count": 13,
   "metadata": {},
   "outputs": [],
   "source": [
    "spT=PhyloTree(open('tree_dino.tre').read(), format=1)"
   ]
  },
  {
   "cell_type": "markdown",
   "metadata": {},
   "source": [
    "## Testing family expansions"
   ]
  },
  {
   "cell_type": "code",
   "execution_count": 53,
   "metadata": {},
   "outputs": [],
   "source": [
    "#only testing species expansion\n",
    "def fishExp(gbs,tbs):\n",
    "    cbs=dict((sp,len(gs)) for sp,gs in gbs.items())\n",
    "    med=np.median(list(cbs.values()))\n",
    "    #print(cbs,med)\n",
    "    spval={}\n",
    "    for sp,st in cbs.items():\n",
    "        nis=sum(cbs.values())-st\n",
    "        nit=sum(tbs.values())-tbs[sp]-sum(cbs.values())+st\n",
    "        odds,pval=stats.fisher_exact([[st, tbs[sp]-st], [nis, nit]],alternative='greater')\n",
    "        nmed=np.median([cbs[ssp] for ssp in cbs if not ssp==sp])\n",
    "        tmed=np.median([tbs[ssp] for ssp in tbs if not ssp==sp])\n",
    "        m_odds,m_pval=stats.fisher_exact([[st, tbs[sp]-st], [nmed, tmed]],alternative='greater')\n",
    "        #print(sp,pval,[st, tbs[sp]-st], [nis, nit],m_pval,[st, tbs[sp]-st], [nmed, tmed])\n",
    "        spval[sp]=(cbs[sp],m_pval)\n",
    "\n",
    "    return spval"
   ]
  },
  {
   "cell_type": "code",
   "execution_count": null,
   "metadata": {},
   "outputs": [],
   "source": []
  },
  {
   "cell_type": "markdown",
   "metadata": {},
   "source": [
    "calculate number of genes per species"
   ]
  },
  {
   "cell_type": "code",
   "execution_count": 15,
   "metadata": {},
   "outputs": [],
   "source": [
    "tbs=defaultdict(int)\n",
    "for fid,gbs in Fams.items():\n",
    "    for sp in gbs:\n",
    "        tbs[sp]+=len(gbs[sp])"
   ]
  },
  {
   "cell_type": "code",
   "execution_count": null,
   "metadata": {},
   "outputs": [],
   "source": []
  },
  {
   "cell_type": "code",
   "execution_count": 54,
   "metadata": {},
   "outputs": [
    {
     "data": {
      "application/vnd.jupyter.widget-view+json": {
       "model_id": "d6344342aee7422ba3c11a4e8a06313a",
       "version_major": 2,
       "version_minor": 0
      },
      "text/plain": [
       "HBox(children=(IntProgress(value=0, max=22544), HTML(value='')))"
      ]
     },
     "metadata": {},
     "output_type": "display_data"
    },
    {
     "name": "stdout",
     "output_type": "stream",
     "text": [
      "\n"
     ]
    }
   ],
   "source": [
    "toosmall=0\n",
    "expRes=[]\n",
    "for fid,gbs in tqdm_notebook(Fams.items()):\n",
    "    cbs=dict((sp,len(gs)) for sp,gs in gbs.items())\n",
    "    if len(cbs.keys())<3 or sum(cbs.values())<5:\n",
    "        toosmall+=1\n",
    "        continue\n",
    "    try:\n",
    "        spval=fishExp(gbs,tbs)\n",
    "        expRes.append((fid,spval))\n",
    "    except:\n",
    "        print(fid,cbs)"
   ]
  },
  {
   "cell_type": "code",
   "execution_count": 59,
   "metadata": {},
   "outputs": [
    {
     "name": "stdout",
     "output_type": "stream",
     "text": [
      "22544 11656 10888\n"
     ]
    }
   ],
   "source": [
    "print(len(Fams),len(expRes),toosmall)"
   ]
  },
  {
   "cell_type": "code",
   "execution_count": 63,
   "metadata": {},
   "outputs": [],
   "source": [
    "spFam,spPval=defaultdict(list),defaultdict(list)\n",
    "for fid,spval in expRes:\n",
    "    for sp in spval:\n",
    "        ct,pval=spval[sp]\n",
    "        spFam[sp].append(fid)                     \n",
    "        spPval[sp].append(pval)"
   ]
  },
  {
   "cell_type": "code",
   "execution_count": 74,
   "metadata": {},
   "outputs": [
    {
     "name": "stdout",
     "output_type": "stream",
     "text": [
      "aqu Counter({False: 6404, True: 135})\n",
      "ava Counter({False: 6291, True: 24})\n",
      "bla Counter({False: 7902, True: 41})\n",
      "cel Counter({False: 4947, True: 40})\n",
      "cgi Counter({False: 7977, True: 36})\n",
      "cin Counter({False: 6422, True: 16})\n",
      "cte Counter({False: 8599, True: 74})\n",
      "hel Counter({False: 5663, True: 38})\n",
      "hro Counter({False: 6455, True: 46})\n",
      "hsa Counter({False: 7474, True: 22})\n",
      "lan Counter({False: 9040, True: 10})\n",
      "lgi Counter({False: 8504, True: 16})\n",
      "loc Counter({False: 7344, True: 11})\n",
      "mle Counter({False: 5318, True: 36})\n",
      "mli Counter({False: 5969, True: 14})\n",
      "nge Counter({False: 8804, True: 63})\n",
      "nve Counter({False: 7388, True: 41})\n",
      "obi Counter({False: 7966, True: 47})\n",
      "odi Counter({False: 4965, True: 29})\n",
      "pau Counter({False: 8456, True: 16})\n",
      "ppa Counter({False: 4569, True: 64})\n",
      "pye Counter({False: 8915, True: 27})\n",
      "rva Counter({False: 5333, True: 54})\n",
      "sko Counter({False: 8430, True: 63})\n",
      "sma Counter({False: 6108, True: 40})\n",
      "tca Counter({False: 6164, True: 39})\n",
      "dgy Counter({False: 6983, True: 8})\n",
      "dme Counter({False: 5804, True: 24})\n",
      "sme Counter({False: 4229, True: 21})\n"
     ]
    }
   ],
   "source": [
    "famEnrich=defaultdict(dict)\n",
    "for sp in spPval:\n",
    "    #signif_pvals = sidak(spPval[sp], alpha=0.05)\n",
    "    #before_adj=['True' if p < 0.05  else 'False' for p in spPval[sp] ]\n",
    "    #1signif_pvals = lsu(np.array(spPval[sp]), q=0.05) #this is benferroni-hochberg\n",
    "    adj=multipletests(pvals=np.array(spPval[sp]), alpha=0.05, method=\"fdr_bh\")\n",
    "    print (sp,Counter(adj[0]))\n",
    "    for fam,pth,pval in zip(spFam[sp],adj[0],adj[1]):\n",
    "        famEnrich[fam][sp]=(pth,pval)\n",
    "        \n"
   ]
  },
  {
   "cell_type": "code",
   "execution_count": null,
   "metadata": {},
   "outputs": [],
   "source": [
    "with open('Orthogroups_enrich.txt','w') as out:\n",
    "    for fid,gbs in Fams.items():\n",
    "        cbs=dict((sp,len(gs)) for sp,gs in gbs.items())\n",
    "        pvl=famEnrich[fid]\n",
    "        enriched=set([])\n",
    "        outList=[fid,]\n",
    "        out.write('\\t'.join(outList))\n",
    "    "
   ]
  },
  {
   "cell_type": "markdown",
   "metadata": {},
   "source": [
    "## Gain and losses"
   ]
  },
  {
   "cell_type": "code",
   "execution_count": 81,
   "metadata": {},
   "outputs": [],
   "source": [
    "def checkFam(fam,spTd):\n",
    "    fid,gbs=fam\n",
    "    spset=list(gbs.keys())\n",
    "    if len(spset)>1:\n",
    "        phtyp=spT.get_common_ancestor(list(gbs.keys()))\n",
    "    else:\n",
    "        phtyp=[l for l in spT.get_leaves() if l.name==spset[0]][0]\n",
    "    #print phtyp.name\n",
    "    #phyloCt[phtyp.name]+=1\n",
    "    #gbs[Ai]\n",
    "    ndesc=len([l.name for l in phtyp.get_leaves()])\n",
    "    for leaf in spTd:\n",
    "        pv='1' if leaf.name in gbs else '0'\n",
    "        leaf.add_features(presence=pv)\n",
    "    lost=[node.name  for node in phtyp.get_monophyletic(values=['0'], target_attr=\"presence\")]\n",
    "    #print spTd.get_ascii(attributes=[\"name\",\"presence\"], show_internal=True)\n",
    "    #for node in spTd.get_monophyletic(values=['0'], target_attr=\"presence\"):\n",
    "    #    print node.name\n",
    "    #    print node.get_ascii(attributes=[\"presence\", \"name\"], show_internal=False)\n",
    "    return fid,len(gbs.keys()),ndesc,phtyp.name,lost\n",
    "\n"
   ]
  },
  {
   "cell_type": "code",
   "execution_count": 99,
   "metadata": {},
   "outputs": [],
   "source": [
    "origins=defaultdict(int)\n",
    "losses=defaultdict(int)\n",
    "idGainLoss={}\n",
    "for fam in Fams.items():\n",
    "    fid,nspec,ndesc,oritax,lost=checkFam(fam,spT)\n",
    "    idGainLoss[fid]=(nspec,ndesc,oritax,lost)\n",
    "    origins[oritax]+=1\n",
    "    for tax in lost:\n",
    "        losses[tax]+=1"
   ]
  },
  {
   "cell_type": "code",
   "execution_count": 96,
   "metadata": {},
   "outputs": [],
   "source": [
    "spTi=copy.deepcopy(spT)\n",
    "for node in spTi.traverse(\"postorder\"):\n",
    "    #print node.name,origins[node.name],losses[node.name]\n",
    "    #node.add_features(origins=origins[node.name],losses=losses[node.name])\n",
    "    node.name=\"{0}_{1}_{2}]\".format(node.name,origins[node.name],losses[node.name])"
   ]
  },
  {
   "cell_type": "code",
   "execution_count": 97,
   "metadata": {},
   "outputs": [
    {
     "name": "stdout",
     "output_type": "stream",
     "text": [
      "(aqu_312_0_:1,(mle_101_2483_:1,(nve_61_1769_:1,((sko_72_1625_:1,(bla_35_1584_:1,((cin_31_735_:1,odi_102_2203_:1)urochordata_60_1542_,(loc_8_462_:1,hsa_16_350_:1)vertebrata_795_909_)olfactores_50_992_)chordata_66_758_)deuterostomes_131_1270_,(((cel_133_534_:1,ppa_85_788_:1)nematodes_1546_2926_,(rva_139_2419_:1,(sma_42_1268_:1,(dme_39_767_:1,tca_48_344_:1)insects_385_880_)mandibulata_90_462_)panarthropoda_29_601_)ecdysozoa_37_3652_,(ava_509_5498_:1,((mli_678_781_:1,sme_66_2587_:1)platyhelminthes_72_5273_,((obi_52_2610_:1,(lgi_70_1773_:1,(cgi_75_1617_:1,pye_128_769_:1)bivalvia_422_647_)moll_cl_184_483_)mollusca_209_2141_,((dgy_45_3813_:1,(hel_96_4605_:1,(cte_121_610_:1,hro_76_3281_:1)anne_cl1_50_872_)anne_cl2_148_296_)annelids_153_1848_,(nge_240_1836_:1,(pau_76_1481_:1,lan_118_710_:1)lophophorata_76_1227_)spir_cl_100_1399_)spir_cl1_357_579_)spir_cl2_900_230_)spir_cl3_396_276_)spiralia_227_211_)protostomia_729_215_)bilateria_2067_96_)parahoxozoa_1681_20_)eumetazoa_993_0_);\n"
     ]
    }
   ],
   "source": [
    "print(spTi.write(format=7))\n",
    "#print(spTi.get_ascii(attributes=[\"name\"], show_internal=True))"
   ]
  },
  {
   "cell_type": "markdown",
   "metadata": {},
   "source": [
    "## Output"
   ]
  },
  {
   "cell_type": "code",
   "execution_count": 117,
   "metadata": {},
   "outputs": [],
   "source": [
    "with open('Orthogroups_stats.tsv','w') as out:\n",
    "    out.write(\"FID\\tnb_genes\\tnb_species\\torigin\\tlost_sp\\tlost_taxa\\texpanded_tax\\n\")\n",
    "    for fid,gbs in Fams.items():\n",
    "        nspec,ndesc,oritax,lost=idGainLoss[fid]\n",
    "        ngn=sum([len(gl) for gl in gbs.values()])\n",
    "        exp=[s for s,p in famEnrich[fid].items() if p[0]]\n",
    "        #rpvals=zip(pvals.keys(),[round(-np.log10(l[1]),2) for l in pvals.values()])\n",
    "        outL=[fid,str(ngn),str(nspec),oritax,str(ndesc-nspec),','.join(lost),','.join(exp)]\n",
    "        out.write('\\t'.join(outL)+'\\n')"
   ]
  }
 ],
 "metadata": {
  "kernelspec": {
   "display_name": "Python 3",
   "language": "python",
   "name": "python3"
  },
  "language_info": {
   "codemirror_mode": {
    "name": "ipython",
    "version": 3
   },
   "file_extension": ".py",
   "mimetype": "text/x-python",
   "name": "python",
   "nbconvert_exporter": "python",
   "pygments_lexer": "ipython3",
   "version": "3.7.3"
  }
 },
 "nbformat": 4,
 "nbformat_minor": 4
}
